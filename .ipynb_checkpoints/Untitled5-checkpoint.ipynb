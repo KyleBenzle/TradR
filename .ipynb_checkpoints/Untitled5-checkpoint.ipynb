{
 "cells": [
  {
   "cell_type": "code",
   "execution_count": 1,
   "metadata": {},
   "outputs": [],
   "source": [
    "import subprocess\n",
    "\n",
    "\n",
    "from github import Github\n",
    "import pandas as pd\n",
    "import glob\n",
    "import os\n",
    "import csv\n",
    "from time import sleep\n",
    "\n",
    "import datetime\n"
   ]
  },
  {
   "cell_type": "code",
   "execution_count": 2,
   "metadata": {},
   "outputs": [
    {
     "name": "stderr",
     "output_type": "stream",
     "text": [
      "/home/iii/anaconda3/lib/python3.7/site-packages/ipykernel_launcher.py:5: FutureWarning: The pandas.datetime class is deprecated and will be removed from pandas in a future version. Import from datetime module instead.\n",
      "  \"\"\"\n"
     ]
    }
   ],
   "source": [
    "list_of_files = glob.glob('./*.csv') # * means all if need specific format then *.csv\n",
    "latest_file = max(list_of_files, key=os.path.getctime)\n",
    "latestFile = pd.read_csv(latest_file, encoding ='utf-8')\n",
    "\n",
    "latestFile.Hour=pd.datetime.now()\n"
   ]
  },
  {
   "cell_type": "code",
   "execution_count": 5,
   "metadata": {},
   "outputs": [],
   "source": [
    "latestFile = latestFile.iloc[0:1]\n"
   ]
  },
  {
   "cell_type": "code",
   "execution_count": 6,
   "metadata": {},
   "outputs": [
    {
     "data": {
      "text/html": [
       "<div>\n",
       "<style scoped>\n",
       "    .dataframe tbody tr th:only-of-type {\n",
       "        vertical-align: middle;\n",
       "    }\n",
       "\n",
       "    .dataframe tbody tr th {\n",
       "        vertical-align: top;\n",
       "    }\n",
       "\n",
       "    .dataframe thead th {\n",
       "        text-align: right;\n",
       "    }\n",
       "</style>\n",
       "<table border=\"1\" class=\"dataframe\">\n",
       "  <thead>\n",
       "    <tr style=\"text-align: right;\">\n",
       "      <th></th>\n",
       "      <th>Hour</th>\n",
       "      <th>btc_online_users</th>\n",
       "      <th>btc_number_of_post</th>\n",
       "      <th>btc_comments</th>\n",
       "      <th>btc_total_votes</th>\n",
       "      <th>bitcoin_online_users</th>\n",
       "      <th>bitcoin_number_of_post</th>\n",
       "      <th>bitcoin_comments</th>\n",
       "      <th>bitcoin_total_votes</th>\n",
       "      <th>ethereum_online_users</th>\n",
       "      <th>...</th>\n",
       "      <th>ethtrader_comments</th>\n",
       "      <th>ethtrader_total_votes</th>\n",
       "      <th>ethfinance_online_users</th>\n",
       "      <th>ethfinance_number_of_post</th>\n",
       "      <th>ethfinance_comments</th>\n",
       "      <th>ethfinance_total_votes</th>\n",
       "      <th>xmrtrader_online_users</th>\n",
       "      <th>xmrtrader_number_of_post</th>\n",
       "      <th>xmrtrader_comments</th>\n",
       "      <th>xmrtrader_total_votes</th>\n",
       "    </tr>\n",
       "  </thead>\n",
       "  <tbody>\n",
       "    <tr>\n",
       "      <th>0</th>\n",
       "      <td>2021-03-08 22:13:32.916191</td>\n",
       "      <td>1.3k</td>\n",
       "      <td>3</td>\n",
       "      <td>[{'timestamp': '24 minutes ago', 'comments': '...</td>\n",
       "      <td>1030</td>\n",
       "      <td>8.0k</td>\n",
       "      <td>9</td>\n",
       "      <td>[{'timestamp': '8 minutes ago', 'comments': '1...</td>\n",
       "      <td>1451</td>\n",
       "      <td>3.0k</td>\n",
       "      <td>...</td>\n",
       "      <td>[{'timestamp': '2 minutes ago', 'comments': '1...</td>\n",
       "      <td>24171</td>\n",
       "      <td>435</td>\n",
       "      <td>1</td>\n",
       "      <td>[{'timestamp': '27 minutes ago', 'comments': '...</td>\n",
       "      <td>1812</td>\n",
       "      <td>89</td>\n",
       "      <td>1</td>\n",
       "      <td>[{'timestamp': '58 minutes ago', 'comments': '...</td>\n",
       "      <td>742</td>\n",
       "    </tr>\n",
       "  </tbody>\n",
       "</table>\n",
       "<p>1 rows × 33 columns</p>\n",
       "</div>"
      ],
      "text/plain": [
       "                        Hour btc_online_users btc_number_of_post  \\\n",
       "0 2021-03-08 22:13:32.916191             1.3k                  3   \n",
       "\n",
       "                                        btc_comments btc_total_votes  \\\n",
       "0  [{'timestamp': '24 minutes ago', 'comments': '...            1030   \n",
       "\n",
       "  bitcoin_online_users bitcoin_number_of_post  \\\n",
       "0                 8.0k                      9   \n",
       "\n",
       "                                    bitcoin_comments bitcoin_total_votes  \\\n",
       "0  [{'timestamp': '8 minutes ago', 'comments': '1...                1451   \n",
       "\n",
       "  ethereum_online_users  ...  \\\n",
       "0                  3.0k  ...   \n",
       "\n",
       "                                  ethtrader_comments ethtrader_total_votes  \\\n",
       "0  [{'timestamp': '2 minutes ago', 'comments': '1...                 24171   \n",
       "\n",
       "  ethfinance_online_users ethfinance_number_of_post  \\\n",
       "0                     435                         1   \n",
       "\n",
       "                                 ethfinance_comments ethfinance_total_votes  \\\n",
       "0  [{'timestamp': '27 minutes ago', 'comments': '...                   1812   \n",
       "\n",
       "  xmrtrader_online_users xmrtrader_number_of_post  \\\n",
       "0                     89                        1   \n",
       "\n",
       "                                  xmrtrader_comments xmrtrader_total_votes  \n",
       "0  [{'timestamp': '58 minutes ago', 'comments': '...                   742  \n",
       "\n",
       "[1 rows x 33 columns]"
      ]
     },
     "execution_count": 6,
     "metadata": {},
     "output_type": "execute_result"
    }
   ],
   "source": [
    "latestFile"
   ]
  },
  {
   "cell_type": "code",
   "execution_count": null,
   "metadata": {},
   "outputs": [],
   "source": [
    "\n",
    "list_of_files = glob.glob('./*.csv') # * means all if need specific format then *.csv\n",
    "latest_file = max(list_of_files, key=os.path.getctime)\n",
    "latestFile = pd.read_csv(latest_file, encoding ='utf-8')\n",
    "\n",
    "latestFile.Hour=pd.datetime.now()\n",
    "\n",
    "\n",
    "mainFile = pd.read_csv('./ScrappedData/ScrappedReddit.csv', encoding='utf-8')\n",
    "\n",
    "# latestFile.to_csv('lattestfiletest.csv')\n",
    "\n",
    "\n",
    "os.remove(\"./ScrappedData/ScrappedReddit.csv\")\n",
    "\n",
    "sleep(5)\n",
    "\n",
    "latestFileNew = latestFile[mainFile.columns]\n",
    "\n",
    "out = pd.concat([mainFile, latestFileNew])\n",
    "\n",
    "# out = mainFile.append(latestFile, ignore_index=True)\n",
    "\n",
    "\n",
    "out.to_csv('./ScrappedData/ScrappedReddit.csv', index=False)\n"
   ]
  }
 ],
 "metadata": {
  "kernelspec": {
   "display_name": "Python 3",
   "language": "python",
   "name": "python3"
  },
  "language_info": {
   "codemirror_mode": {
    "name": "ipython",
    "version": 3
   },
   "file_extension": ".py",
   "mimetype": "text/x-python",
   "name": "python",
   "nbconvert_exporter": "python",
   "pygments_lexer": "ipython3",
   "version": "3.7.7"
  }
 },
 "nbformat": 4,
 "nbformat_minor": 4
}
