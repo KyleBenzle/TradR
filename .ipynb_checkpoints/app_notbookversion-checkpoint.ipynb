{
 "cells": [
  {
   "cell_type": "code",
   "execution_count": 48,
   "metadata": {},
   "outputs": [
    {
     "name": "stderr",
     "output_type": "stream",
     "text": [
      "/home/iii/anaconda3/lib/python3.7/site-packages/ipykernel_launcher.py:43: FutureWarning: The pandas.datetime class is deprecated and will be removed from pandas in a future version. Import from datetime module instead.\n"
     ]
    }
   ],
   "source": [
    "import script\n",
    "import pandas as pd\n",
    "import glob\n",
    "import os\n",
    "import csv\n",
    "from time import sleep\n",
    "\n",
    "\n",
    "\n",
    "# count = 0\n",
    "\n",
    "# # while count < 24:\n",
    "# \t# count = count + 1\n",
    "# \t# exec(open(\"RedditScraper.py\").read())\n",
    "\n",
    "\n",
    "\n",
    "\n",
    "\n",
    "\n",
    "# for each in latest_file:\n",
    "# \tif each[0]=='Hour':\n",
    "# \t\tcontinue\n",
    "# \tmainfile.append(each)\n",
    "\n",
    "\n",
    "# with open(\"./main/RedditScrapped1.csv\",'a+',encoding='utf-16') as outfile:\n",
    "# \twriter = csv.writer(outfile)\n",
    "# \tfor each in mainfile:\n",
    "# \t\twriter.writerow(each)\n",
    "\n",
    "\n",
    "\n",
    "# \t# sleep(3615)()\n",
    "\n",
    "\n",
    "\n",
    "\n",
    "list_of_files = glob.glob('./*.csv') # * means all if need specific format then *.csv\n",
    "latest_file = max(list_of_files, key=os.path.getctime)\n",
    "latestFile = pd.read_csv(latest_file, encoding ='latin1')\n",
    "\n",
    "latestFile.Hour=pd.datetime.now()\n",
    "latestFile.Hour = latestFile.Hour.dt.strftime('%m/%d/%Y %H:%M:%S')\n",
    "\n",
    "mainFile = pd.read_csv('./main/ScrappedReddit.csv', encoding='latin1')\n",
    "\n",
    "\n",
    "\n",
    "\n",
    "os.remove(\"./main/ScrappedReddit.csv\")\n",
    "\n",
    "sleep(1)\n",
    "\n",
    "out = mainFile.append(latestFile)\n",
    "\n",
    "with open('./main/ScrappedReddit.csv', 'w', encoding='utf-8') as f:\n",
    "    out.to_csv(f, index=False)\n",
    "\n",
    "\n",
    "\n",
    "\n",
    "\n",
    "# fix colum names so they are the same!!!!\n",
    "\n"
   ]
  },
  {
   "cell_type": "code",
   "execution_count": 39,
   "metadata": {
    "scrolled": true
   },
   "outputs": [
    {
     "data": {
      "text/plain": [
       "Timestamp('2017-01-01 12:00:00')"
      ]
     },
     "execution_count": 39,
     "metadata": {},
     "output_type": "execute_result"
    }
   ],
   "source": [
    "pd.Timestamp('2017-01-01T12')"
   ]
  },
  {
   "cell_type": "code",
   "execution_count": 46,
   "metadata": {},
   "outputs": [
    {
     "name": "stderr",
     "output_type": "stream",
     "text": [
      "/home/iii/anaconda3/lib/python3.7/site-packages/ipykernel_launcher.py:1: FutureWarning: The pandas.datetime class is deprecated and will be removed from pandas in a future version. Import from datetime module instead.\n",
      "  \"\"\"Entry point for launching an IPython kernel.\n"
     ]
    },
    {
     "data": {
      "text/plain": [
       "0    02/22/2021 01:31:12\n",
       "Name: Hour, dtype: object"
      ]
     },
     "execution_count": 46,
     "metadata": {},
     "output_type": "execute_result"
    }
   ],
   "source": [
    "latestFile.Hour=pd.datetime.now()\n",
    "latestFile\n",
    "\n",
    "\n",
    "\n",
    "latestFile.Hour"
   ]
  },
  {
   "cell_type": "code",
   "execution_count": null,
   "metadata": {},
   "outputs": [],
   "source": []
  }
 ],
 "metadata": {
  "kernelspec": {
   "display_name": "Python 3",
   "language": "python",
   "name": "python3"
  },
  "language_info": {
   "codemirror_mode": {
    "name": "ipython",
    "version": 3
   },
   "file_extension": ".py",
   "mimetype": "text/x-python",
   "name": "python",
   "nbconvert_exporter": "python",
   "pygments_lexer": "ipython3",
   "version": "3.7.7"
  }
 },
 "nbformat": 4,
 "nbformat_minor": 4
}
